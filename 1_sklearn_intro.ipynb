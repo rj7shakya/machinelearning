{
  "nbformat": 4,
  "nbformat_minor": 0,
  "metadata": {
    "colab": {
      "name": "1_sklearn_intro.ipynb",
      "provenance": [],
      "authorship_tag": "ABX9TyMOZl+cJW/GdI5Wg0vB/9tG",
      "include_colab_link": true
    },
    "kernelspec": {
      "name": "python3",
      "display_name": "Python 3"
    }
  },
  "cells": [
    {
      "cell_type": "markdown",
      "metadata": {
        "id": "view-in-github",
        "colab_type": "text"
      },
      "source": [
        "<a href=\"https://colab.research.google.com/github/rj7shakya/machinelearning/blob/master/1_sklearn_intro.ipynb\" target=\"_parent\"><img src=\"https://colab.research.google.com/assets/colab-badge.svg\" alt=\"Open In Colab\"/></a>"
      ]
    },
    {
      "cell_type": "markdown",
      "metadata": {
        "id": "jOaUv8Pq-SyN"
      },
      "source": [
        "**0. end to end sckit learn workflow**"
      ]
    },
    {
      "cell_type": "code",
      "metadata": {
        "id": "b32E9q5e-kjJ"
      },
      "source": [
        ""
      ],
      "execution_count": null,
      "outputs": []
    }
  ]
}